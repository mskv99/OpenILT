{
 "cells": [
  {
   "cell_type": "code",
   "execution_count": 1,
   "id": "c9f9f736-fba6-4758-a6e9-eed311e314be",
   "metadata": {},
   "outputs": [
    {
     "name": "stdout",
     "output_type": "stream",
     "text": [
      "/Users/andrew/PycharmProjects/OpenILT\n",
      "/Users/andrew/PycharmProjects/OpenILT\n"
     ]
    }
   ],
   "source": [
    "%cd ..\n",
    "!pwd"
   ]
  },
  {
   "cell_type": "code",
   "execution_count": 2,
   "id": "89c37288-eb16-43d7-bee2-1f3c85e004b3",
   "metadata": {},
   "outputs": [],
   "source": [
    "import torch\n",
    "import matplotlib.pyplot as plt\n",
    "import opc.iccad13 as iccad\n",
    "from utils.layout import getCrops, getShapes, readLayout\n",
    "from utils.polygon import dissect, segs2poly, poly2imgShifted, poly2img"
   ]
  },
  {
   "cell_type": "markdown",
   "id": "4d433fed-149e-45be-b194-3174d3e88de8",
   "metadata": {},
   "source": [
    "# Simulate method"
   ]
  },
  {
   "cell_type": "code",
   "execution_count": 4,
   "id": "e2f3c88e-d44d-48ee-bd29-d4fa4a9eed3c",
   "metadata": {},
   "outputs": [
    {
     "name": "stdout",
     "output_type": "stream",
     "text": [
      "Read layout of geometry ((0, 0))-((9560, 7885))\n",
      "beginX:0\n",
      "beginY:0\n",
      "endX:9560\n",
      "endY:7885\n",
      "Getting cells from a layout...\n",
      "Cell 0: TOP\n",
      "Bounding box: (0,0;9560,7885), selected layer: 0\n",
      "X position: 0 -> 2000 / 9560, Y range: 0 - 7885, count=0\n",
      "Cropped_0-0_2000-2000\n",
      "Cropped_0-1000_2000-3000\n",
      "In total 2 crops\n"
     ]
    },
    {
     "data": {
      "image/png": "[encoded data removed]",
      "text/plain": [
       "<Figure size 1500x300 with 4 Axes>"
      ]
     },
     "metadata": {},
     "output_type": "display_data"
    }
   ],
   "source": [
    "CROP_NUM = 2\n",
    "\n",
    "def plot_images(num_images, images, titles=None):\n",
    "    # Calculate the number of rows needed\n",
    "    num_rows = (num_images + 3) // 4  # Ceiling division to ensure enough rows\n",
    "    \n",
    "    # Create a figure and a grid of subplots\n",
    "    fig, axes = plt.subplots(num_rows, 4, figsize=(15, 3 * num_rows))\n",
    "    \n",
    "    # Flatten the axes array for easy iteration\n",
    "    axes = axes.flatten()\n",
    "    \n",
    "    # Plot each image\n",
    "    for i in range(num_images):\n",
    "        axes[i].imshow(poly2imgShifted(images[i], sizeX=2000, sizeY=2000), cmap='gray' if len(poly2imgShifted(images[i], sizeX=2000, sizeY=2000).shape) == 2 else None)\n",
    "        if titles:\n",
    "            axes[i].set_title(titles[i])\n",
    "        axes[i].axis('off')  # Hide axes\n",
    "    \n",
    "    # Hide any remaining empty subplots\n",
    "    for j in range(num_images, num_rows * 4):\n",
    "        axes[j].axis('off')\n",
    "    \n",
    "    plt.tight_layout()\n",
    "    plt.show()\n",
    "\n",
    "infile = readLayout(filename = 'tmp/test1.gds', layer = 0)\n",
    "crops, coords = getCrops(infile, layer = 0, sizeX = 2000, sizeY = 2000, \n",
    "                         strideX = 1000, strideY = 1000, maxnum = CROP_NUM, \n",
    "                         verbose = True)\n",
    "\n",
    "print(f\"In total {len(crops)} crops\")\n",
    "titles = [f\"Crop {i+1}\" for i in range(len(crops))]\n",
    "\n",
    "plot_images(num_images = CROP_NUM, images = crops, titles = titles)"
   ]
  },
  {
   "cell_type": "markdown",
   "id": "b1c1444c-e4f5-41dd-9131-580477caf1ff",
   "metadata": {},
   "source": [
    "Мы нарезали топологию на патчи и отобразили только лишь первые 10 патчей\n",
    "\n",
    "Нарезка шла от левого нижнего угла, снизу вверх со смещением `strideX`, затем сдвигаемся по горизонтали cо смещением `strideY`.\n",
    "\n",
    "Размер окна: `sizeX` , `sizeY`\n",
    "\n",
    "Метод `getCrops` выдаёт нам список bottom-left (x,y) координат у патчей. `coords: [(x1,y1), (x2,y2), ,  ,(xn, yn)]`, где **n** число патчей.\n",
    "\n",
    "Переменная `crops` представляет собой список из патчей.  `crops:[crops[0], crops[1], ..., crops[n-1]]`.\n",
    "\n",
    "В свою очередь каждый патч представялет собой полигонов. `crops[i]: [polygon[0], polygon[1], ..., polygon[m]]`\n",
    "\n",
    "Полигон - список кортежей (x,y) координат. `polygon: [(x1, y1), (x2, y2), , (xk, yk)]`"
   ]
  },
  {
   "cell_type": "code",
   "execution_count": 4,
   "id": "8a6b228a-57ba-4508-83b6-28b0b5784b9e",
   "metadata": {},
   "outputs": [
    {
     "name": "stdout",
     "output_type": "stream",
     "text": [
      "Coords: [(0, 0), (0, 2000)]\n",
      "Length: 2\n",
      "\n",
      "Отобразим 2 патч : [[(60, 0), (60, 115), (0, 115), (0, 285), (60, 285), (60, 625), (130, 625), (130, 285), (605, 285), (605, 635), (675, 635), (675, 285), (1955, 285), (1955, 625), (2000, 625), (2000, 115), (1625, 115), (1625, 0), (1555, 0), (1555, 115), (1055, 115), (1055, 0), (985, 0), (985, 115), (485, 115), (485, 0), (415, 0), (415, 115), (130, 115), (130, 0)], [(60, 1175), (60, 1515), (0, 1515), (0, 1685), (60, 1685), (60, 2000), (130, 2000), (130, 1685), (2000, 1685), (2000, 1175), (1955, 1175), (1955, 1515), (675, 1515), (675, 1275), (605, 1275), (605, 1515), (130, 1515), (130, 1175)], [(1960, 1870), (1960, 2000), (2000, 2000), (2000, 1870)], [(235, 0), (235, 40), (305, 40), (305, 0)], [(610, 0), (610, 40), (700, 40), (700, 0)], [(805, 0), (805, 40), (875, 40), (875, 0)], [(1180, 0), (1180, 40), (1270, 40), (1270, 0)], [(1375, 0), (1375, 40), (1445, 40), (1445, 0)], [(1735, 0), (1735, 25), (1750, 25), (1750, 40), (1840, 40), (1840, 25), (1875, 25), (1875, 0)], [(440, 900), (440, 1075), (570, 1075), (570, 900)], [(1960, 900), (1960, 1075), (2000, 1075), (2000, 900)], [(425, 360), (425, 770), (665, 770), (665, 1140), (425, 1140), (425, 1410), (495, 1410), (495, 1210), (735, 1210), (735, 700), (495, 700), (495, 360)], [(800, 360), (800, 1410), (890, 1410), (890, 360)]]\n",
      "\n",
      "Число полигонов в рассматриваемом патче: 13\n",
      "Общее число патчей: 2\n"
     ]
    }
   ],
   "source": [
    "print(f'Coords: {coords}')\n",
    "print(f'Length: {len(coords)}\\n')\n",
    "\n",
    "PATCH_IDX = 1\n",
    "print(f'Отобразим {PATCH_IDX + 1} патч : {crops[PATCH_IDX]}\\n') # для примрера отобразили 2- ой патч\n",
    "print(f'Число полигонов в рассматриваемом патче: {len(crops[PATCH_IDX])}')\n",
    "print(f'Общее число патчей: {len(crops)}') "
   ]
  },
  {
   "cell_type": "markdown",
   "id": "7844e41c-c035-4913-9292-b69e5122f02a",
   "metadata": {},
   "source": [
    "Получим `top-left` (правый верхний угол) координаты для региона из нескольких патчей с учётом задаваемого масштаба: "
   ]
  },
  {
   "cell_type": "code",
   "execution_count": 6,
   "id": "8a8d6f5a-877b-4146-b357-a96ffb25dec0",
   "metadata": {},
   "outputs": [
    {
     "name": "stdout",
     "output_type": "stream",
     "text": [
      "ymax, xmax: (500, 250)\n"
     ]
    }
   ],
   "source": [
    "bigsim = iccad.PatchSim(iccad.LithoSim(), sizeX=2000, sizeY=2000, scale=0.125)\n",
    "\n",
    "ymax, xmax = bigsim.getSize(coords)\n",
    "\n",
    "print(f'ymax, xmax: {ymax, xmax}')"
   ]
  },
  {
   "cell_type": "markdown",
   "id": "6b4fd7cf-2b4c-4d5f-aa10-7baa6211aa2f",
   "metadata": {},
   "source": [
    "На примере разбираем как работает внутренний цикл в методы `concatenate` класса **PatchSim**.\n",
    "\n",
    "При этом учитываются два сценария использования/пользовательского ввода: \n",
    "1. `CROPS` > `BATCH_SIZE`\n",
    "2. `CROPS` < `BATCH_SIZE`\n",
    "\n",
    "В модуле `opc.iccaad13` рассмотрен случай, когда число патчей равно 2, а размер батча равен 16"
   ]
  },
  {
   "cell_type": "code",
   "execution_count": 7,
   "id": "28c64779-6610-41d0-b2d3-ce8137733fdd",
   "metadata": {},
   "outputs": [
    {
     "name": "stdout",
     "output_type": "stream",
     "text": [
      "idx: 0\n",
      "idx-jdx: 0-0\n",
      "idx-jdx: 0-1\n",
      "Inner index: 0\n",
      "Inner index: 1\n"
     ]
    }
   ],
   "source": [
    "CROPS = 2\n",
    "BATCH_SIZE = 5\n",
    "\n",
    "\n",
    "for idx in range(0, CROPS, BATCH_SIZE):\n",
    "    print(f'idx: {idx}')\n",
    "    for jdx in range(idx, min(CROPS, idx + BATCH_SIZE)):\n",
    "        print(f'idx-jdx: {idx}-{jdx}')\n",
    "    for jdx in range(idx, min(CROPS, idx + BATCH_SIZE)):\n",
    "        index = jdx - idx\n",
    "        print(f'Inner index: {index}')"
   ]
  },
  {
   "cell_type": "code",
   "execution_count": 8,
   "id": "376e37cd-91d0-486f-abfb-de482a23a8a6",
   "metadata": {},
   "outputs": [
    {
     "name": "stdout",
     "output_type": "stream",
     "text": [
      "tensor image list: [tensor([[0., 0., 0.,  ..., 1., 1., 1.],\n",
      "        [0., 0., 0.,  ..., 1., 1., 1.],\n",
      "        [0., 0., 0.,  ..., 1., 1., 1.],\n",
      "        ...,\n",
      "        [0., 0., 0.,  ..., 0., 0., 0.],\n",
      "        [0., 0., 0.,  ..., 0., 0., 0.],\n",
      "        [0., 0., 0.,  ..., 0., 0., 0.]]), tensor([[0., 0., 0.,  ..., 0., 0., 0.],\n",
      "        [0., 0., 0.,  ..., 0., 0., 0.],\n",
      "        [0., 0., 0.,  ..., 0., 0., 0.],\n",
      "        ...,\n",
      "        [0., 0., 0.,  ..., 1., 1., 1.],\n",
      "        [0., 0., 0.,  ..., 1., 1., 1.],\n",
      "        [0., 0., 0.,  ..., 1., 1., 1.]])]\n",
      "\n",
      "stacked image tensors: tensor([[[0., 0., 0.,  ..., 1., 1., 1.],\n",
      "         [0., 0., 0.,  ..., 1., 1., 1.],\n",
      "         [0., 0., 0.,  ..., 1., 1., 1.],\n",
      "         ...,\n",
      "         [0., 0., 0.,  ..., 0., 0., 0.],\n",
      "         [0., 0., 0.,  ..., 0., 0., 0.],\n",
      "         [0., 0., 0.,  ..., 0., 0., 0.]],\n",
      "\n",
      "        [[0., 0., 0.,  ..., 0., 0., 0.],\n",
      "         [0., 0., 0.,  ..., 0., 0., 0.],\n",
      "         [0., 0., 0.,  ..., 0., 0., 0.],\n",
      "         ...,\n",
      "         [0., 0., 0.,  ..., 1., 1., 1.],\n",
      "         [0., 0., 0.,  ..., 1., 1., 1.],\n",
      "         [0., 0., 0.,  ..., 1., 1., 1.]]])\n",
      "\n",
      "stacked tensor shape: torch.Size([2, 250, 250])\n"
     ]
    }
   ],
   "source": [
    "# преобразуем патчи в виде набора координат полигонов в изображения, соберём их в список\n",
    "image_list = [(poly2img(crops[idx], sizeX=2000, sizeY=2000, scale=0.125 ) / 255) for idx in range(len(crops))]\n",
    "# преобразуем к формату тензоров\n",
    "tensor_list = list(map(lambda x: torch.tensor(x, dtype=torch.float32), image_list))\n",
    "print(f'tensor image list: {tensor_list}\\n')\n",
    "# объединим их вдоль вертикальной оси\n",
    "stacked_image = torch.stack(tensor_list, dim=0)\n",
    "print(f'stacked image tensors: {stacked_image}\\n')\n",
    "print(f'stacked tensor shape: {stacked_image.shape}')"
   ]
  },
  {
   "cell_type": "code",
   "execution_count": 9,
   "id": "4414673a-e283-425f-aa0a-cfa537f0b60c",
   "metadata": {},
   "outputs": [
    {
     "name": "stdout",
     "output_type": "stream",
     "text": [
      "pNom shape: torch.Size([2, 250, 250])\n"
     ]
    }
   ],
   "source": [
    "pNom, _, _ = bigsim._simulator(stacked_image)\n",
    "print(f'pNom shape: {pNom.shape}')"
   ]
  },
  {
   "cell_type": "code",
   "execution_count": 13,
   "id": "f2fbca3e-516a-4d89-9a83-fc73cf4b5063",
   "metadata": {},
   "outputs": [],
   "source": [
    "savedMask = [stacked_image[0], stacked_image[1]]\n",
    "savedNom = [pNom[0], pNom[1]]"
   ]
  },
  {
   "cell_type": "code",
   "execution_count": null,
   "id": "ea9a3d4b-fc40-43be-81fc-55163125faf8",
   "metadata": {},
   "outputs": [],
   "source": []
  },
  {
   "cell_type": "markdown",
   "id": "4f572875-1d53-4528-922f-b2cd2f3bacf4",
   "metadata": {},
   "source": [
    "# Concat method"
   ]
  },
  {
   "cell_type": "code",
   "execution_count": 25,
   "id": "584df655-723b-48c2-9d1b-bdd35eb255e2",
   "metadata": {},
   "outputs": [
    {
     "name": "stdout",
     "output_type": "stream",
     "text": [
      "Excluded left and right boundaries:\n",
      "tensor([[0., 0., 1., 1., 1., 1., 1., 1., 0., 0.],\n",
      "        [0., 0., 1., 1., 1., 1., 1., 1., 0., 0.],\n",
      "        [0., 0., 1., 1., 1., 1., 1., 1., 0., 0.],\n",
      "        [0., 0., 1., 1., 1., 1., 1., 1., 0., 0.],\n",
      "        [0., 0., 1., 1., 1., 1., 1., 1., 0., 0.],\n",
      "        [0., 0., 1., 1., 1., 1., 1., 1., 0., 0.],\n",
      "        [0., 0., 1., 1., 1., 1., 1., 1., 0., 0.],\n",
      "        [0., 0., 1., 1., 1., 1., 1., 1., 0., 0.],\n",
      "        [0., 0., 1., 1., 1., 1., 1., 1., 0., 0.],\n",
      "        [0., 0., 1., 1., 1., 1., 1., 1., 0., 0.]]) \n",
      "\n",
      "Excluded bottom and top boundaries:\n",
      "tensor([[0., 0., 0., 0., 0., 0., 0., 0., 0., 0.],\n",
      "        [0., 0., 0., 0., 0., 0., 0., 0., 0., 0.],\n",
      "        [1., 1., 1., 1., 1., 1., 1., 1., 1., 1.],\n",
      "        [1., 1., 1., 1., 1., 1., 1., 1., 1., 1.],\n",
      "        [1., 1., 1., 1., 1., 1., 1., 1., 1., 1.],\n",
      "        [1., 1., 1., 1., 1., 1., 1., 1., 1., 1.],\n",
      "        [1., 1., 1., 1., 1., 1., 1., 1., 1., 1.],\n",
      "        [1., 1., 1., 1., 1., 1., 1., 1., 1., 1.],\n",
      "        [0., 0., 0., 0., 0., 0., 0., 0., 0., 0.],\n",
      "        [0., 0., 0., 0., 0., 0., 0., 0., 0., 0.]]) \n",
      "\n",
      "Excluded bottom and top boundaries:\n",
      "tensor([[0., 0., 0., 0., 0., 0., 0., 0., 0., 0.],\n",
      "        [0., 0., 0., 0., 0., 0., 0., 0., 0., 0.],\n",
      "        [0., 0., 1., 1., 1., 1., 1., 1., 0., 0.],\n",
      "        [0., 0., 1., 1., 1., 1., 1., 1., 0., 0.],\n",
      "        [0., 0., 1., 1., 1., 1., 1., 1., 0., 0.],\n",
      "        [0., 0., 1., 1., 1., 1., 1., 1., 0., 0.],\n",
      "        [0., 0., 1., 1., 1., 1., 1., 1., 0., 0.],\n",
      "        [0., 0., 1., 1., 1., 1., 1., 1., 0., 0.],\n",
      "        [0., 0., 0., 0., 0., 0., 0., 0., 0., 0.],\n",
      "        [0., 0., 0., 0., 0., 0., 0., 0., 0., 0.]])\n"
     ]
    }
   ],
   "source": [
    "raw_mask = torch.zeros((10, 10))\n",
    "exclude_left_right = raw_mask.clone()\n",
    "exclude_top_bottom = raw_mask.clone()\n",
    "exclude_all = raw_mask.clone()\n",
    "\n",
    "exclude_left_right[:, 2:-2] = 1\n",
    "print(f'Excluded left and right boundaries:')\n",
    "print(exclude_left_right, '\\n') \n",
    "\n",
    "exclude_top_bottom[2:-2, :] = 1\n",
    "print(f'Excluded bottom and top boundaries:')\n",
    "print(exclude_top_bottom, '\\n')\n",
    "\n",
    "exclude_all[2:-2, 2:-2] = 1\n",
    "print(f'Excluded bottom and top boundaries:')\n",
    "print(exclude_all)"
   ]
  },
  {
   "cell_type": "code",
   "execution_count": 22,
   "id": "d68db924-d647-488c-85da-34faaec4061c",
   "metadata": {},
   "outputs": [
    {
     "data": {
      "text/plain": [
       "tensor([[0., 0., 0., 0., 0., 0., 0., 0., 0., 0.],\n",
       "        [0., 0., 0., 0., 0., 0., 0., 0., 0., 0.],\n",
       "        [0., 0., 0., 0., 0., 0., 0., 0., 0., 0.],\n",
       "        [0., 0., 0., 0., 0., 0., 0., 0., 0., 0.],\n",
       "        [0., 0., 0., 0., 0., 0., 0., 0., 0., 0.],\n",
       "        [0., 0., 0., 0., 0., 0., 0., 0., 0., 0.],\n",
       "        [0., 0., 0., 0., 0., 0., 0., 0., 0., 0.],\n",
       "        [0., 0., 0., 0., 0., 0., 0., 0., 0., 0.],\n",
       "        [0., 0., 0., 0., 0., 0., 0., 0., 0., 0.],\n",
       "        [0., 0., 0., 0., 0., 0., 0., 0., 0., 0.]])"
      ]
     },
     "execution_count": 22,
     "metadata": {},
     "output_type": "execute_result"
    }
   ],
   "source": [
    "raw_mask"
   ]
  },
  {
   "cell_type": "code",
   "execution_count": null,
   "id": "c8a1855a-a80d-4879-afdd-2970dd9913de",
   "metadata": {},
   "outputs": [],
   "source": []
  }
 ],
 "metadata": {
  "kernelspec": {
   "display_name": "openilt",
   "language": "python",
   "name": "openilt"
  },
  "language_info": {
   "codemirror_mode": {
    "name": "ipython",
    "version": 3
   },
   "file_extension": ".py",
   "mimetype": "text/x-python",
   "name": "python",
   "nbconvert_exporter": "python",
   "pygments_lexer": "ipython3",
   "version": "3.8.20"
  }
 },
 "nbformat": 4,
 "nbformat_minor": 5
}
