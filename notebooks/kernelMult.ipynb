{
 "cells": [
  {
   "cell_type": "code",
   "execution_count": 1,
   "id": "6898a0a4-a5a3-4eda-9844-6156daf8bc53",
   "metadata": {},
   "outputs": [],
   "source": [
    "import torch"
   ]
  },
  {
   "cell_type": "code",
   "execution_count": 30,
   "id": "6eebcb0c-38de-4f56-8dd9-e7595a52cf7c",
   "metadata": {},
   "outputs": [
    {
     "name": "stdout",
     "output_type": "stream",
     "text": [
      "maskFFT:\n",
      "tensor([[[ 0,  1,  2,  3,  4,  5,  6,  7,  8,  9],\n",
      "         [10, 11, 12, 13, 14, 15, 16, 17, 18, 19],\n",
      "         [20, 21, 22, 23, 24, 25, 26, 27, 28, 29],\n",
      "         [30, 31, 32, 33, 34, 35, 36, 37, 38, 39],\n",
      "         [40, 41, 42, 43, 44, 45, 46, 47, 48, 49],\n",
      "         [50, 51, 52, 53, 54, 55, 56, 57, 58, 59],\n",
      "         [60, 61, 62, 63, 64, 65, 66, 67, 68, 69]]])\n",
      "\n",
      "knxh:2, knyh:2\n",
      "\n",
      "kernel:\n",
      "tensor([[[ 0,  1,  2,  3,  4],\n",
      "         [ 5,  6,  7,  8,  9],\n",
      "         [10, 11, 12, 13, 14],\n",
      "         [15, 16, 17, 18, 19],\n",
      "         [20, 21, 22, 23, 24]]])\n",
      "\n",
      "result:\n",
      "tensor([[[0., 0., 0., 0., 0., 0., 0., 0., 0., 0.],\n",
      "         [0., 0., 0., 0., 0., 0., 0., 0., 0., 0.],\n",
      "         [0., 0., 0., 0., 0., 0., 0., 0., 0., 0.],\n",
      "         [0., 0., 0., 0., 0., 0., 0., 0., 0., 0.],\n",
      "         [0., 0., 0., 0., 0., 0., 0., 0., 0., 0.],\n",
      "         [0., 0., 0., 0., 0., 0., 0., 0., 0., 0.],\n",
      "         [0., 0., 0., 0., 0., 0., 0., 0., 0., 0.]]])\n"
     ]
    }
   ],
   "source": [
    "maskFFT = torch.arange(70).reshape(1,7,10)\n",
    "print(f'maskFFT:\\n{maskFFT}\\n')\n",
    "kernel = torch.arange(25).reshape(1, 5, 5)\n",
    "knxh, knyh = kernel.shape[-2] // 2, kernel.shape[-1] // 2\n",
    "print(f'knxh:{knxh}, knyh:{knyh}\\n')\n",
    "print(f'kernel:\\n{kernel}\\n')\n",
    "kernelNum = 1\n",
    "output = torch.zeros(kernelNum, a.shape[-2], a.shape[-1])\n",
    "print(f'result:\\n{output}')"
   ]
  },
  {
   "cell_type": "code",
   "execution_count": 31,
   "id": "fe75e8b9-a33b-4185-9cb9-1d8f90053b79",
   "metadata": {},
   "outputs": [
    {
     "name": "stdout",
     "output_type": "stream",
     "text": [
      "Corresponding maskFFT region:\n",
      "tensor([[[ 0,  1,  2],\n",
      "         [10, 11, 12],\n",
      "         [20, 21, 22]]])\n",
      "\n",
      "Corresponding kernel region:\n",
      "tensor([[[12, 13, 14],\n",
      "         [17, 18, 19],\n",
      "         [22, 23, 24]]])\n",
      "\n",
      "Result: tensor([[[  0.,  13.,  28.,   0.,   0.,   0.,   0.,   0.,   0.,   0.],\n",
      "         [170., 198., 228.,   0.,   0.,   0.,   0.,   0.,   0.,   0.],\n",
      "         [440., 483., 528.,   0.,   0.,   0.,   0.,   0.,   0.,   0.],\n",
      "         [  0.,   0.,   0.,   0.,   0.,   0.,   0.,   0.,   0.,   0.],\n",
      "         [  0.,   0.,   0.,   0.,   0.,   0.,   0.,   0.,   0.,   0.],\n",
      "         [  0.,   0.,   0.,   0.,   0.,   0.,   0.,   0.,   0.,   0.],\n",
      "         [  0.,   0.,   0.,   0.,   0.,   0.,   0.,   0.,   0.,   0.]]])\n"
     ]
    }
   ],
   "source": [
    "# top-left corner\n",
    "output[:, :knxh+1, :knyh+1] = maskFFT[:, :knxh+1, :knyh+1] * kernel[:kernelNum, -(knxh+1):, -(knyh+1):]\n",
    "print(f'Corresponding maskFFT region:\\n{maskFFT[:, :knxh+1, :knyh+1]}\\n')\n",
    "print(f'Corresponding kernel region:\\n{kernel[:kernelNum, -(knxh+1):, -(knyh+1):]}\\n')\n",
    "print(f'Result: {output}')"
   ]
  },
  {
   "cell_type": "code",
   "execution_count": 32,
   "id": "2f7efe1e-f2a9-4f55-8175-1eaf5a160be3",
   "metadata": {},
   "outputs": [
    {
     "name": "stdout",
     "output_type": "stream",
     "text": [
      "Corresponding maskFFT region:\n",
      "tensor([[[ 8,  9],\n",
      "         [18, 19],\n",
      "         [28, 29]]])\n",
      "Corresponding kernel region:\n",
      "tensor([[[10, 11],\n",
      "         [15, 16],\n",
      "         [20, 21]]])\n",
      "Result:\n",
      "tensor([[[  0.,  13.,  28.,   0.,   0.,   0.,   0.,   0.,  80.,  99.],\n",
      "         [170., 198., 228.,   0.,   0.,   0.,   0.,   0., 270., 304.],\n",
      "         [440., 483., 528.,   0.,   0.,   0.,   0.,   0., 560., 609.],\n",
      "         [  0.,   0.,   0.,   0.,   0.,   0.,   0.,   0.,   0.,   0.],\n",
      "         [  0.,   0.,   0.,   0.,   0.,   0.,   0.,   0.,   0.,   0.],\n",
      "         [  0.,   0.,   0.,   0.,   0.,   0.,   0.,   0.,   0.,   0.],\n",
      "         [  0.,   0.,   0.,   0.,   0.,   0.,   0.,   0.,   0.,   0.]]])\n"
     ]
    }
   ],
   "source": [
    "# top right corner\n",
    "output[:, :knxh+1, -knyh:] = maskFFT[:, :knxh+1, -knyh:] * kernel[:kernelNum, -(knxh+1):, :knyh]\n",
    "print(f'Corresponding maskFFT region:\\n{maskFFT[:, :knxh+1, -knyh:]}')\n",
    "print(f'Corresponding kernel region:\\n{kernel[:kernelNum, -(knxh+1):, :knyh]}')\n",
    "print(f'Result:\\n{output}')"
   ]
  },
  {
   "cell_type": "code",
   "execution_count": 33,
   "id": "58c30b0a-724e-4ef9-b47d-effebe496fe8",
   "metadata": {},
   "outputs": [
    {
     "name": "stdout",
     "output_type": "stream",
     "text": [
      "Corresponding maskFFT region:\n",
      "tensor([[[50, 51, 52],\n",
      "         [60, 61, 62]]])\n",
      "Corresponding kernel region:\n",
      "tensor([[[2, 3, 4],\n",
      "         [7, 8, 9]]])\n",
      "Result:\n",
      "tensor([[[  0.,  13.,  28.,   0.,   0.,   0.,   0.,   0.,  80.,  99.],\n",
      "         [170., 198., 228.,   0.,   0.,   0.,   0.,   0., 270., 304.],\n",
      "         [440., 483., 528.,   0.,   0.,   0.,   0.,   0., 560., 609.],\n",
      "         [  0.,   0.,   0.,   0.,   0.,   0.,   0.,   0.,   0.,   0.],\n",
      "         [  0.,   0.,   0.,   0.,   0.,   0.,   0.,   0.,   0.,   0.],\n",
      "         [100., 153., 208.,   0.,   0.,   0.,   0.,   0.,   0.,   0.],\n",
      "         [420., 488., 558.,   0.,   0.,   0.,   0.,   0.,   0.,   0.]]])\n"
     ]
    }
   ],
   "source": [
    "# bottom-left quadrant\n",
    "output[:, -knxh:, :knyh+1] = maskFFT[:, -knxh:, :knyh+1] * kernel[:kernelNum, :knxh, -(knyh+1):]\n",
    "print(f'Corresponding maskFFT region:\\n{maskFFT[:, -knxh:, :knyh+1]}')\n",
    "print(f'Corresponding kernel region:\\n{kernel[:kernelNum, :knxh, -(knyh+1):]}')\n",
    "print(f'Result:\\n{output}')"
   ]
  },
  {
   "cell_type": "code",
   "execution_count": 34,
   "id": "f38877ef-45c3-45a5-99b5-42284b280271",
   "metadata": {},
   "outputs": [
    {
     "name": "stdout",
     "output_type": "stream",
     "text": [
      "Corresponding maskFFT region:\n",
      "tensor([[[58, 59],\n",
      "         [68, 69]]])\n",
      "Corresponding kernel region:\n",
      "tensor([[[0, 1],\n",
      "         [5, 6]]])\n",
      "Result:\n",
      "tensor([[[  0.,  13.,  28.,   0.,   0.,   0.,   0.,   0.,  80.,  99.],\n",
      "         [170., 198., 228.,   0.,   0.,   0.,   0.,   0., 270., 304.],\n",
      "         [440., 483., 528.,   0.,   0.,   0.,   0.,   0., 560., 609.],\n",
      "         [  0.,   0.,   0.,   0.,   0.,   0.,   0.,   0.,   0.,   0.],\n",
      "         [  0.,   0.,   0.,   0.,   0.,   0.,   0.,   0.,   0.,   0.],\n",
      "         [100., 153., 208.,   0.,   0.,   0.,   0.,   0.,   0.,  59.],\n",
      "         [420., 488., 558.,   0.,   0.,   0.,   0.,   0., 340., 414.]]])\n"
     ]
    }
   ],
   "source": [
    "# bottom-right quadrant\n",
    "output[:, -knxh:, -knyh:] = maskFFT[:, -knxh:, -knyh:] * kernel[:kernelNum, :knxh, :knyh]\n",
    "print(f'Corresponding maskFFT region:\\n{maskFFT[:, -knxh:, -knyh:]}')\n",
    "print(f'Corresponding kernel region:\\n{kernel[:kernelNum, :knxh, :knyh]}')\n",
    "print(f'Result:\\n{output}')"
   ]
  },
  {
   "cell_type": "code",
   "execution_count": null,
   "id": "6b8cc065-f4f7-4dd8-a10c-dc1d16167a65",
   "metadata": {},
   "outputs": [],
   "source": []
  }
 ],
 "metadata": {
  "kernelspec": {
   "display_name": "mbopc",
   "language": "python",
   "name": "mbopc"
  },
  "language_info": {
   "codemirror_mode": {
    "name": "ipython",
    "version": 3
   },
   "file_extension": ".py",
   "mimetype": "text/x-python",
   "name": "python",
   "nbconvert_exporter": "python",
   "pygments_lexer": "ipython3",
   "version": "3.9.20"
  }
 },
 "nbformat": 4,
 "nbformat_minor": 5
}
